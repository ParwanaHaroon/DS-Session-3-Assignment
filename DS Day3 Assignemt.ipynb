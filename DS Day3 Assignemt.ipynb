{
 "cells": [
  {
   "cell_type": "code",
   "execution_count": 1,
   "metadata": {},
   "outputs": [],
   "source": [
    "# Session 3: Assignment\n",
    "\n",
    "# Problem One: Write a python program to implment your own myreduce() function\n",
    "# wchih works exactly like Python's built-in-funciton reduce()"
   ]
  },
  {
   "cell_type": "code",
   "execution_count": 6,
   "metadata": {},
   "outputs": [
    {
     "name": "stdout",
     "output_type": "stream",
     "text": [
      "The sum of the list element is : 68\n",
      "The sum of the list element is : 28\n"
     ]
    }
   ],
   "source": [
    "# python code to demonstrate workinf of reduce()\n",
    "# importing funcools for reduce()\n",
    "\n",
    "import functools\n",
    "\n",
    "# initializing list\n",
    "\n",
    "list = [1, 3, 5, 6, 2,5,18,28,]\n",
    "\n",
    "# using reduce to compute sum of list\n",
    "\n",
    "print(\"The sum of the list element is : \",end=\"\")\n",
    "print(functools.reduce(lambda a,b : a+b, list))\n",
    "\n",
    "# using reduce to compute maximum element from list\n",
    "\n",
    "print(\"The sum of the list element is : \",end=\"\")\n",
    "print(functools.reduce(lambda a,b : a if a > b else b, list))\n"
   ]
  },
  {
   "cell_type": "code",
   "execution_count": null,
   "metadata": {},
   "outputs": [],
   "source": [
    "# Problem 1: Program code to implement myreduce 2nd example"
   ]
  },
  {
   "cell_type": "code",
   "execution_count": 7,
   "metadata": {},
   "outputs": [
    {
     "name": "stdout",
     "output_type": "stream",
     "text": [
      "120\n"
     ]
    }
   ],
   "source": [
    "product = 1\n",
    "list = [1, 2, 3, 4, 5]\n",
    "for num in list:\n",
    "    product = product * num\n",
    "print(product)"
   ]
  },
  {
   "cell_type": "code",
   "execution_count": 22,
   "metadata": {},
   "outputs": [
    {
     "name": "stdout",
     "output_type": "stream",
     "text": [
      "120\n"
     ]
    }
   ],
   "source": [
    "from functools import reduce\n",
    "product = reduce((lambda x, y: x * y), [1, 2, 3, 4, 5])\n",
    "print(myreduce)"
   ]
  },
  {
   "cell_type": "code",
   "execution_count": 7,
   "metadata": {},
   "outputs": [],
   "source": [
    "# Problem 1.2: Write a program to implment myfilter()"
   ]
  },
  {
   "cell_type": "code",
   "execution_count": 1,
   "metadata": {},
   "outputs": [],
   "source": [
    "number_list = range(-10, 10)"
   ]
  },
  {
   "cell_type": "code",
   "execution_count": 3,
   "metadata": {},
   "outputs": [
    {
     "name": "stdout",
     "output_type": "stream",
     "text": [
      "[-10, -9, -8, -7, -6, -5, -4, -3, -2, -1]\n"
     ]
    }
   ],
   "source": [
    "myfilter = list(filter(lambda x: x < 0, number_list))\n",
    "\n",
    "print(myfilter)"
   ]
  },
  {
   "cell_type": "code",
   "execution_count": 24,
   "metadata": {},
   "outputs": [],
   "source": [
    "# problem 1.2: filter() works without the filter fucntion"
   ]
  },
  {
   "cell_type": "code",
   "execution_count": 28,
   "metadata": {},
   "outputs": [
    {
     "name": "stdout",
     "output_type": "stream",
     "text": [
      "The filtered elements are:\n",
      "1\n",
      "2\n",
      "3\n",
      "4\n",
      "2\n",
      "3\n"
     ]
    }
   ],
   "source": [
    "randomlist = [1,2,3,4,2,3]\n",
    "\n",
    "filteredlist = filter(None, randomlist)\n",
    "\n",
    "print('The filtered elements are:')\n",
    "\n",
    "for element in filteredlist:\n",
    "    print(element)"
   ]
  },
  {
   "cell_type": "code",
   "execution_count": 34,
   "metadata": {},
   "outputs": [],
   "source": [
    "# Q: 2: List comprehension"
   ]
  },
  {
   "cell_type": "code",
   "execution_count": 35,
   "metadata": {},
   "outputs": [
    {
     "name": "stdout",
     "output_type": "stream",
     "text": [
      "['A', 'C', 'A', 'D', 'G', 'I', 'L', 'D']\n"
     ]
    }
   ],
   "source": [
    "# List number one:['A', 'C', 'A', 'D', 'G', 'I', ’L’, ‘ D’]\n",
    "A_letters = [ letter for letter in 'ACADGILD']\n",
    "print( A_letters)"
   ]
  },
  {
   "cell_type": "code",
   "execution_count": 26,
   "metadata": {},
   "outputs": [
    {
     "name": "stdout",
     "output_type": "stream",
     "text": [
      "['x', 'xx', 'xxx', 'xxxx', 'y', 'yy', 'yyy', 'yyyy', 'z', 'zz', 'zzz', 'zzzz']\n"
     ]
    }
   ],
   "source": [
    "# List number two: ['x', 'xx', 'xxx', 'xxxx', 'y', 'yy', 'yyy', 'yyyy', 'z', 'zz', 'zzz', 'zzzz']\n",
    "\n",
    "input_list = ['x', 'y', 'z']\n",
    "result = [item*num for item in input_list for num in range(1,5)  ]\n",
    "print(result)"
   ]
  },
  {
   "cell_type": "code",
   "execution_count": 28,
   "metadata": {},
   "outputs": [
    {
     "name": "stdout",
     "output_type": "stream",
     "text": [
      "['x', 'y', 'z', 'xx', 'yy', 'zz', 'xxx', 'yyy', 'zzz', 'xxxx', 'yyyy', 'zzzz']\n"
     ]
    }
   ],
   "source": [
    "# list number three: ['x', 'y', 'z', 'xx', 'yy', 'zz', 'xxx', 'yyy', 'zzz', 'xxxx', 'yyyy', 'zzzz']\n",
    "\n",
    "input_list = ['x', 'y', 'z']\n",
    "result = [item*num for num in range(1,5) for item in input_list]\n",
    "print(result)"
   ]
  },
  {
   "cell_type": "code",
   "execution_count": 33,
   "metadata": {},
   "outputs": [
    {
     "name": "stdout",
     "output_type": "stream",
     "text": [
      "[[2], [3], [4], [3], [4], [5], [4], [5], [6]]\n"
     ]
    }
   ],
   "source": [
    "# list number four: [[2], [3], [4], [3], [4], [5], [4], [5], [6]]\n",
    "\n",
    "input_list = [2,3,4]\n",
    "result = [ [item+num] for item in input_list for num in range(0,3) ]\n",
    "print(result)"
   ]
  },
  {
   "cell_type": "code",
   "execution_count": 34,
   "metadata": {},
   "outputs": [
    {
     "name": "stdout",
     "output_type": "stream",
     "text": [
      "[[2, 3, 4, 4], [3, 4, 5, 5], [4, 5, 6, 6], [5, 6, 7, 7]]\n"
     ]
    }
   ],
   "source": [
    "# list number five: [[2, 3, 4, 5], [3, 4, 5, 6], [4, 5, 6, 7], [5, 6, 7, 8]]\n",
    "\n",
    "input_list = [2,3,4,4]\n",
    "result = [ [item+num for item in input_list] for num in range(0,4) ]\n",
    "print(result)"
   ]
  },
  {
   "cell_type": "code",
   "execution_count": 36,
   "metadata": {},
   "outputs": [
    {
     "name": "stdout",
     "output_type": "stream",
     "text": [
      "[(1, 1), (2, 1), (3, 1), (1, 2), (2, 2), (3, 2), (1, 3), (2, 3), (3, 3)]\n"
     ]
    }
   ],
   "source": [
    "# list number five: [(1, 1), (2, 1), (3, 1), (1, 2), (2, 2), (3, 2), (1, 3), (2, 3), (3, 3)]\n",
    "\n",
    "input_list = [1,2,3]\n",
    "result = [ (b,a) for a in input_list for b in input_list]\n",
    "print(result)"
   ]
  },
  {
   "cell_type": "code",
   "execution_count": 40,
   "metadata": {},
   "outputs": [
    {
     "name": "stdout",
     "output_type": "stream",
     "text": [
      "educational\n"
     ]
    }
   ],
   "source": [
    "# Q:3 - Implement longestWord() that takes a list of words and returns the longet one\n",
    "\n",
    "def find_longest_word(myText):\n",
    "    a = myText.split(' ')\n",
    "    return max(a, key=len)\n",
    "\n",
    "text = 'This is the most educational IT class I have ever taken'\n",
    "print (find_longest_word(text))"
   ]
  },
  {
   "cell_type": "code",
   "execution_count": null,
   "metadata": {},
   "outputs": [],
   "source": []
  }
 ],
 "metadata": {
  "kernelspec": {
   "display_name": "Python 3",
   "language": "python",
   "name": "python3"
  },
  "language_info": {
   "codemirror_mode": {
    "name": "ipython",
    "version": 3
   },
   "file_extension": ".py",
   "mimetype": "text/x-python",
   "name": "python",
   "nbconvert_exporter": "python",
   "pygments_lexer": "ipython3",
   "version": "3.6.5"
  }
 },
 "nbformat": 4,
 "nbformat_minor": 2
}
